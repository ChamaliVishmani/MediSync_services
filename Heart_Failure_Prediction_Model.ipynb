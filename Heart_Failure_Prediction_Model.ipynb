{
 "cells": [
  {
   "cell_type": "code",
   "execution_count": 1,
   "id": "74b95e23",
   "metadata": {},
   "outputs": [
    {
     "name": "stdout",
     "output_type": "stream",
     "text": [
      "{'uci_id': 519, 'name': 'Heart Failure Clinical Records', 'repository_url': 'https://archive.ics.uci.edu/dataset/519/heart+failure+clinical+records', 'data_url': 'https://archive.ics.uci.edu/static/public/519/data.csv', 'abstract': 'This dataset contains the medical records of 299 patients who had heart failure, collected during their follow-up period, where each patient profile has 13 clinical features.', 'area': 'Health and Medicine', 'tasks': ['Classification', 'Regression', 'Clustering'], 'characteristics': ['Multivariate'], 'num_instances': 299, 'num_features': 12, 'feature_types': ['Integer', 'Real'], 'demographics': ['Age', 'Sex'], 'target_col': ['death_event'], 'index_col': None, 'has_missing_values': 'no', 'missing_values_symbol': None, 'year_of_dataset_creation': 2020, 'last_updated': 'Mon Feb 26 2024', 'dataset_doi': '10.24432/C5Z89R', 'creators': [], 'intro_paper': {'title': 'Machine learning can predict survival of patients with heart failure from serum creatinine and ejection fraction alone', 'authors': 'D. Chicco, Giuseppe Jurman', 'published_in': 'BMC Medical Informatics and Decision Making', 'year': 2020, 'url': 'https://www.semanticscholar.org/paper/e64579d8593140396b518682bb3a47ba246684eb', 'doi': None}, 'additional_info': {'summary': 'A detailed description of the dataset can be found in the Dataset section of the following paper: \\r\\n\\r\\nDavide Chicco, Giuseppe Jurman: \"Machine learning can predict survival of patients with heart failure from serum creatinine and ejection fraction alone\". BMC Medical Informatics and Decision Making 20, 16 (2020). https://doi.org/10.1186/s12911-020-1023-5 \\r\\n', 'purpose': None, 'funded_by': None, 'instances_represent': None, 'recommended_data_splits': None, 'sensitive_data': None, 'preprocessing_description': None, 'variable_info': 'Thirteen (13) clinical features:\\n\\n- age: age of the patient (years)\\n- anaemia: decrease of red blood cells or hemoglobin (boolean)\\n- creatinine phosphokinase  (CPK): level of the CPK enzyme in the blood (mcg/L)\\n- diabetes: if the patient has diabetes (boolean)\\n- ejection fraction: percentage of blood leaving the heart at each contraction  (percentage)\\n- high blood pressure: if the patient has hypertension (boolean)\\n- platelets: platelets in the blood (kiloplatelets/mL)\\n- sex: woman or man (binary)\\n- serum creatinine: level of serum creatinine in the blood (mg/dL)\\n- serum sodium: level of serum sodium in the blood (mEq/L)\\n- smoking: if the patient smokes or not (boolean)\\n- time: follow-up period (days)\\n- [target] death event: if the patient died during the follow-up period (boolean)\\n\\nFor more information, please check Table 1, Table 2, and Table 3 of the following paper: \\n\\nDavide Chicco, Giuseppe Jurman: \"Machine learning can predict survival of patients with heart failure from serum creatinine and ejection fraction alone\". BMC Medical Informatics and Decision Making 20, 16 (2020). https://doi.org/10.1186/s12911-020-1023-5 \\n', 'citation': None}}\n",
      "                        name     role        type demographic  \\\n",
      "0                        age  Feature     Integer         Age   \n",
      "1                    anaemia  Feature      Binary        None   \n",
      "2   creatinine_phosphokinase  Feature     Integer        None   \n",
      "3                   diabetes  Feature      Binary        None   \n",
      "4          ejection_fraction  Feature     Integer        None   \n",
      "5        high_blood_pressure  Feature      Binary        None   \n",
      "6                  platelets  Feature  Continuous        None   \n",
      "7           serum_creatinine  Feature  Continuous        None   \n",
      "8               serum_sodium  Feature     Integer        None   \n",
      "9                        sex  Feature      Binary         Sex   \n",
      "10                   smoking  Feature      Binary        None   \n",
      "11                      time  Feature     Integer        None   \n",
      "12               death_event   Target      Binary        None   \n",
      "\n",
      "                                          description             units  \\\n",
      "0                                  age of the patient             years   \n",
      "1           decrease of red blood cells or hemoglobin              None   \n",
      "2                level of the CPK enzyme in the blood             mcg/L   \n",
      "3                         if the patient has diabetes              None   \n",
      "4   percentage of blood leaving the heart at each ...                 %   \n",
      "5                     if the patient has hypertension              None   \n",
      "6                              platelets in the blood  kiloplatelets/mL   \n",
      "7              level of serum creatinine in the blood             mg/dL   \n",
      "8                  level of serum sodium in the blood             mEq/L   \n",
      "9                                        woman or man              None   \n",
      "10                       if the patient smokes or not              None   \n",
      "11                                   follow-up period              days   \n",
      "12    if the patient died during the follow-up period              None   \n",
      "\n",
      "   missing_values  \n",
      "0              no  \n",
      "1              no  \n",
      "2              no  \n",
      "3              no  \n",
      "4              no  \n",
      "5              no  \n",
      "6              no  \n",
      "7              no  \n",
      "8              no  \n",
      "9              no  \n",
      "10             no  \n",
      "11             no  \n",
      "12             no  \n",
      "{'uci_id': 519, 'name': 'Heart Failure Clinical Records', 'repository_url': 'https://archive.ics.uci.edu/dataset/519/heart+failure+clinical+records', 'data_url': 'https://archive.ics.uci.edu/static/public/519/data.csv', 'abstract': 'This dataset contains the medical records of 299 patients who had heart failure, collected during their follow-up period, where each patient profile has 13 clinical features.', 'area': 'Health and Medicine', 'tasks': ['Classification', 'Regression', 'Clustering'], 'characteristics': ['Multivariate'], 'num_instances': 299, 'num_features': 12, 'feature_types': ['Integer', 'Real'], 'demographics': ['Age', 'Sex'], 'target_col': ['death_event'], 'index_col': None, 'has_missing_values': 'no', 'missing_values_symbol': None, 'year_of_dataset_creation': 2020, 'last_updated': 'Mon Feb 26 2024', 'dataset_doi': '10.24432/C5Z89R', 'creators': [], 'intro_paper': {'title': 'Machine learning can predict survival of patients with heart failure from serum creatinine and ejection fraction alone', 'authors': 'D. Chicco, Giuseppe Jurman', 'published_in': 'BMC Medical Informatics and Decision Making', 'year': 2020, 'url': 'https://www.semanticscholar.org/paper/e64579d8593140396b518682bb3a47ba246684eb', 'doi': None}, 'additional_info': {'summary': 'A detailed description of the dataset can be found in the Dataset section of the following paper: \\r\\n\\r\\nDavide Chicco, Giuseppe Jurman: \"Machine learning can predict survival of patients with heart failure from serum creatinine and ejection fraction alone\". BMC Medical Informatics and Decision Making 20, 16 (2020). https://doi.org/10.1186/s12911-020-1023-5 \\r\\n', 'purpose': None, 'funded_by': None, 'instances_represent': None, 'recommended_data_splits': None, 'sensitive_data': None, 'preprocessing_description': None, 'variable_info': 'Thirteen (13) clinical features:\\n\\n- age: age of the patient (years)\\n- anaemia: decrease of red blood cells or hemoglobin (boolean)\\n- creatinine phosphokinase  (CPK): level of the CPK enzyme in the blood (mcg/L)\\n- diabetes: if the patient has diabetes (boolean)\\n- ejection fraction: percentage of blood leaving the heart at each contraction  (percentage)\\n- high blood pressure: if the patient has hypertension (boolean)\\n- platelets: platelets in the blood (kiloplatelets/mL)\\n- sex: woman or man (binary)\\n- serum creatinine: level of serum creatinine in the blood (mg/dL)\\n- serum sodium: level of serum sodium in the blood (mEq/L)\\n- smoking: if the patient smokes or not (boolean)\\n- time: follow-up period (days)\\n- [target] death event: if the patient died during the follow-up period (boolean)\\n\\nFor more information, please check Table 1, Table 2, and Table 3 of the following paper: \\n\\nDavide Chicco, Giuseppe Jurman: \"Machine learning can predict survival of patients with heart failure from serum creatinine and ejection fraction alone\". BMC Medical Informatics and Decision Making 20, 16 (2020). https://doi.org/10.1186/s12911-020-1023-5 \\n', 'citation': None}}\n",
      "                        name     role        type demographic  \\\n",
      "0                        age  Feature     Integer         Age   \n",
      "1                    anaemia  Feature      Binary        None   \n",
      "2   creatinine_phosphokinase  Feature     Integer        None   \n",
      "3                   diabetes  Feature      Binary        None   \n",
      "4          ejection_fraction  Feature     Integer        None   \n",
      "5        high_blood_pressure  Feature      Binary        None   \n",
      "6                  platelets  Feature  Continuous        None   \n",
      "7           serum_creatinine  Feature  Continuous        None   \n",
      "8               serum_sodium  Feature     Integer        None   \n",
      "9                        sex  Feature      Binary         Sex   \n",
      "10                   smoking  Feature      Binary        None   \n",
      "11                      time  Feature     Integer        None   \n",
      "12               death_event   Target      Binary        None   \n",
      "\n",
      "                                          description             units  \\\n",
      "0                                  age of the patient             years   \n",
      "1           decrease of red blood cells or hemoglobin              None   \n",
      "2                level of the CPK enzyme in the blood             mcg/L   \n",
      "3                         if the patient has diabetes              None   \n",
      "4   percentage of blood leaving the heart at each ...                 %   \n",
      "5                     if the patient has hypertension              None   \n",
      "6                              platelets in the blood  kiloplatelets/mL   \n",
      "7              level of serum creatinine in the blood             mg/dL   \n",
      "8                  level of serum sodium in the blood             mEq/L   \n",
      "9                                        woman or man              None   \n",
      "10                       if the patient smokes or not              None   \n",
      "11                                   follow-up period              days   \n",
      "12    if the patient died during the follow-up period              None   \n",
      "\n",
      "   missing_values  \n",
      "0              no  \n",
      "1              no  \n",
      "2              no  \n",
      "3              no  \n",
      "4              no  \n",
      "5              no  \n",
      "6              no  \n",
      "7              no  \n",
      "8              no  \n",
      "9              no  \n",
      "10             no  \n",
      "11             no  \n",
      "12             no  \n"
     ]
    }
   ],
   "source": [
    "from ucimlrepo import fetch_ucirepo \n",
    "  \n",
    "# fetch dataset \n",
    "heart_failure_clinical_records = fetch_ucirepo(id=519) \n",
    "  \n",
    "# data (as pandas dataframes) \n",
    "X = heart_failure_clinical_records.data.features \n",
    "y = heart_failure_clinical_records.data.targets \n",
    "  \n",
    "# metadata \n",
    "print(heart_failure_clinical_records.metadata) \n",
    "  \n",
    "# variable information \n",
    "print(heart_failure_clinical_records.variables) \n",
    "from ucimlrepo import fetch_ucirepo \n",
    "  \n",
    "# fetch dataset \n",
    "heart_failure_clinical_records = fetch_ucirepo(id=519) \n",
    "  \n",
    "# data (as pandas dataframes) \n",
    "X = heart_failure_clinical_records.data.features \n",
    "y = heart_failure_clinical_records.data.targets \n",
    "  \n",
    "# metadata \n",
    "print(heart_failure_clinical_records.metadata) \n",
    "  \n",
    "# variable information \n",
    "print(heart_failure_clinical_records.variables) "
   ]
  },
  {
   "cell_type": "code",
   "execution_count": 2,
   "id": "c0754f37",
   "metadata": {},
   "outputs": [
    {
     "data": {
      "text/html": [
       "<div>\n",
       "<style scoped>\n",
       "    .dataframe tbody tr th:only-of-type {\n",
       "        vertical-align: middle;\n",
       "    }\n",
       "\n",
       "    .dataframe tbody tr th {\n",
       "        vertical-align: top;\n",
       "    }\n",
       "\n",
       "    .dataframe thead th {\n",
       "        text-align: right;\n",
       "    }\n",
       "</style>\n",
       "<table border=\"1\" class=\"dataframe\">\n",
       "  <thead>\n",
       "    <tr style=\"text-align: right;\">\n",
       "      <th></th>\n",
       "      <th>death_event</th>\n",
       "    </tr>\n",
       "  </thead>\n",
       "  <tbody>\n",
       "    <tr>\n",
       "      <th>0</th>\n",
       "      <td>1</td>\n",
       "    </tr>\n",
       "    <tr>\n",
       "      <th>1</th>\n",
       "      <td>1</td>\n",
       "    </tr>\n",
       "    <tr>\n",
       "      <th>2</th>\n",
       "      <td>1</td>\n",
       "    </tr>\n",
       "    <tr>\n",
       "      <th>3</th>\n",
       "      <td>1</td>\n",
       "    </tr>\n",
       "    <tr>\n",
       "      <th>4</th>\n",
       "      <td>1</td>\n",
       "    </tr>\n",
       "  </tbody>\n",
       "</table>\n",
       "</div>"
      ],
      "text/plain": [
       "   death_event\n",
       "0            1\n",
       "1            1\n",
       "2            1\n",
       "3            1\n",
       "4            1"
      ]
     },
     "execution_count": 2,
     "metadata": {},
     "output_type": "execute_result"
    }
   ],
   "source": [
    "y.head()"
   ]
  },
  {
   "cell_type": "code",
   "execution_count": 7,
   "id": "827b46f2",
   "metadata": {},
   "outputs": [
    {
     "data": {
      "text/html": [
       "<style>#sk-container-id-4 {color: black;}#sk-container-id-4 pre{padding: 0;}#sk-container-id-4 div.sk-toggleable {background-color: white;}#sk-container-id-4 label.sk-toggleable__label {cursor: pointer;display: block;width: 100%;margin-bottom: 0;padding: 0.3em;box-sizing: border-box;text-align: center;}#sk-container-id-4 label.sk-toggleable__label-arrow:before {content: \"▸\";float: left;margin-right: 0.25em;color: #696969;}#sk-container-id-4 label.sk-toggleable__label-arrow:hover:before {color: black;}#sk-container-id-4 div.sk-estimator:hover label.sk-toggleable__label-arrow:before {color: black;}#sk-container-id-4 div.sk-toggleable__content {max-height: 0;max-width: 0;overflow: hidden;text-align: left;background-color: #f0f8ff;}#sk-container-id-4 div.sk-toggleable__content pre {margin: 0.2em;color: black;border-radius: 0.25em;background-color: #f0f8ff;}#sk-container-id-4 input.sk-toggleable__control:checked~div.sk-toggleable__content {max-height: 200px;max-width: 100%;overflow: auto;}#sk-container-id-4 input.sk-toggleable__control:checked~label.sk-toggleable__label-arrow:before {content: \"▾\";}#sk-container-id-4 div.sk-estimator input.sk-toggleable__control:checked~label.sk-toggleable__label {background-color: #d4ebff;}#sk-container-id-4 div.sk-label input.sk-toggleable__control:checked~label.sk-toggleable__label {background-color: #d4ebff;}#sk-container-id-4 input.sk-hidden--visually {border: 0;clip: rect(1px 1px 1px 1px);clip: rect(1px, 1px, 1px, 1px);height: 1px;margin: -1px;overflow: hidden;padding: 0;position: absolute;width: 1px;}#sk-container-id-4 div.sk-estimator {font-family: monospace;background-color: #f0f8ff;border: 1px dotted black;border-radius: 0.25em;box-sizing: border-box;margin-bottom: 0.5em;}#sk-container-id-4 div.sk-estimator:hover {background-color: #d4ebff;}#sk-container-id-4 div.sk-parallel-item::after {content: \"\";width: 100%;border-bottom: 1px solid gray;flex-grow: 1;}#sk-container-id-4 div.sk-label:hover label.sk-toggleable__label {background-color: #d4ebff;}#sk-container-id-4 div.sk-serial::before {content: \"\";position: absolute;border-left: 1px solid gray;box-sizing: border-box;top: 0;bottom: 0;left: 50%;z-index: 0;}#sk-container-id-4 div.sk-serial {display: flex;flex-direction: column;align-items: center;background-color: white;padding-right: 0.2em;padding-left: 0.2em;position: relative;}#sk-container-id-4 div.sk-item {position: relative;z-index: 1;}#sk-container-id-4 div.sk-parallel {display: flex;align-items: stretch;justify-content: center;background-color: white;position: relative;}#sk-container-id-4 div.sk-item::before, #sk-container-id-4 div.sk-parallel-item::before {content: \"\";position: absolute;border-left: 1px solid gray;box-sizing: border-box;top: 0;bottom: 0;left: 50%;z-index: -1;}#sk-container-id-4 div.sk-parallel-item {display: flex;flex-direction: column;z-index: 1;position: relative;background-color: white;}#sk-container-id-4 div.sk-parallel-item:first-child::after {align-self: flex-end;width: 50%;}#sk-container-id-4 div.sk-parallel-item:last-child::after {align-self: flex-start;width: 50%;}#sk-container-id-4 div.sk-parallel-item:only-child::after {width: 0;}#sk-container-id-4 div.sk-dashed-wrapped {border: 1px dashed gray;margin: 0 0.4em 0.5em 0.4em;box-sizing: border-box;padding-bottom: 0.4em;background-color: white;}#sk-container-id-4 div.sk-label label {font-family: monospace;font-weight: bold;display: inline-block;line-height: 1.2em;}#sk-container-id-4 div.sk-label-container {text-align: center;}#sk-container-id-4 div.sk-container {/* jupyter's `normalize.less` sets `[hidden] { display: none; }` but bootstrap.min.css set `[hidden] { display: none !important; }` so we also need the `!important` here to be able to override the default hidden behavior on the sphinx rendered scikit-learn.org. See: https://github.com/scikit-learn/scikit-learn/issues/21755 */display: inline-block !important;position: relative;}#sk-container-id-4 div.sk-text-repr-fallback {display: none;}</style><div id=\"sk-container-id-4\" class=\"sk-top-container\"><div class=\"sk-text-repr-fallback\"><pre>RandomForestClassifier()</pre><b>In a Jupyter environment, please rerun this cell to show the HTML representation or trust the notebook. <br />On GitHub, the HTML representation is unable to render, please try loading this page with nbviewer.org.</b></div><div class=\"sk-container\" hidden><div class=\"sk-item\"><div class=\"sk-estimator sk-toggleable\"><input class=\"sk-toggleable__control sk-hidden--visually\" id=\"sk-estimator-id-4\" type=\"checkbox\" checked><label for=\"sk-estimator-id-4\" class=\"sk-toggleable__label sk-toggleable__label-arrow\">RandomForestClassifier</label><div class=\"sk-toggleable__content\"><pre>RandomForestClassifier()</pre></div></div></div></div></div>"
      ],
      "text/plain": [
       "RandomForestClassifier()"
      ]
     },
     "execution_count": 7,
     "metadata": {},
     "output_type": "execute_result"
    }
   ],
   "source": [
    "from sklearn.model_selection import train_test_split\n",
    "from sklearn.ensemble import RandomForestClassifier\n",
    "import numpy as np\n",
    "\n",
    "y_flattened = np.ravel(y)\n",
    "\n",
    "X_train, X_test, y_train, y_test = train_test_split(X, y_flattened, test_size=0.2, random_state=42)\n",
    "\n",
    "# Choose a machine learning model (e.g., RandomForestClassifier)\n",
    "model = RandomForestClassifier()\n",
    "\n",
    "# Train the model\n",
    "model.fit(X_train, y_train)"
   ]
  },
  {
   "cell_type": "code",
   "execution_count": 10,
   "id": "c81c9fb0",
   "metadata": {},
   "outputs": [
    {
     "name": "stdout",
     "output_type": "stream",
     "text": [
      "Accuracy: 0.7333333333333333\n",
      "\n",
      "Classification Report:\n",
      "              precision    recall  f1-score   support\n",
      "\n",
      "           0       0.71      0.91      0.80        35\n",
      "           1       0.80      0.48      0.60        25\n",
      "\n",
      "    accuracy                           0.73        60\n",
      "   macro avg       0.76      0.70      0.70        60\n",
      "weighted avg       0.75      0.73      0.72        60\n",
      "\n"
     ]
    }
   ],
   "source": [
    "from sklearn.metrics import classification_report, accuracy_score\n",
    "\n",
    "# Make predictions on the testing data\n",
    "y_pred = model.predict(X_test)\n",
    "\n",
    "# Evaluate the model\n",
    "accuracy = accuracy_score(y_test, y_pred)\n",
    "print(\"Accuracy:\", accuracy)\n",
    "print(\"\\nClassification Report:\")\n",
    "print(classification_report(y_test, y_pred))"
   ]
  },
  {
   "cell_type": "code",
   "execution_count": null,
   "id": "c707f46f",
   "metadata": {},
   "outputs": [],
   "source": []
  }
 ],
 "metadata": {
  "kernelspec": {
   "display_name": "codesprint_env",
   "language": "python",
   "name": "codesprint_env"
  },
  "language_info": {
   "codemirror_mode": {
    "name": "ipython",
    "version": 3
   },
   "file_extension": ".py",
   "mimetype": "text/x-python",
   "name": "python",
   "nbconvert_exporter": "python",
   "pygments_lexer": "ipython3",
   "version": "3.10.0"
  }
 },
 "nbformat": 4,
 "nbformat_minor": 5
}
