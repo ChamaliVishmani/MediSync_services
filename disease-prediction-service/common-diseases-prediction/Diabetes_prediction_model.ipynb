{
 "cells": [
  {
   "cell_type": "code",
   "execution_count": null,
   "id": "634df810",
   "metadata": {},
   "outputs": [],
   "source": [
    "from ucimlrepo import fetch_ucirepo \n",
    "  \n",
    "# fetch dataset \n",
    "early_stage_diabetes_risk_prediction = fetch_ucirepo(id=529) \n",
    "  \n",
    "# data (as pandas dataframes) \n",
    "X = early_stage_diabetes_risk_prediction.data.features \n",
    "y = early_stage_diabetes_risk_prediction.data.targets \n",
    "  \n",
    "# metadata \n",
    "print(early_stage_diabetes_risk_prediction.metadata) \n",
    "  \n",
    "# variable information \n",
    "print(early_stage_diabetes_risk_prediction.variables) \n"
   ]
  },
  {
   "cell_type": "code",
   "execution_count": null,
   "id": "1b232335",
   "metadata": {},
   "outputs": [],
   "source": [
    "X.head()"
   ]
  },
  {
   "cell_type": "code",
   "execution_count": null,
   "id": "6c51d2ff",
   "metadata": {},
   "outputs": [],
   "source": [
    "import pandas as pd\n",
    "\n",
    "X_copy = X.copy()\n",
    "\n",
    "for column in X_copy:\n",
    "    if column!='age' and column!='gender':\n",
    "        \n",
    "        dummies = pd.get_dummies(X_copy[column], prefix=column)\n",
    "            \n",
    "        X_copy.drop([column], axis='columns', inplace=True)\n",
    "        \n",
    "        X_copy = pd.concat([X_copy,dummies],axis='columns')\n",
    "        \n",
    "        X_copy.drop([f'{column}_No'], axis='columns', inplace=True)\n",
    "        \n",
    "X = X_copy\n",
    "\n",
    "X.head()"
   ]
  },
  {
   "cell_type": "code",
   "execution_count": null,
   "id": "55650697",
   "metadata": {},
   "outputs": [],
   "source": [
    "gender_dummies = pd.get_dummies(X.gender)\n",
    "\n",
    "updated_X_Gender = pd.concat([X,gender_dummies],axis='columns')\n",
    "\n",
    "updated_X_Gender.drop(['gender','Male'],axis='columns',inplace=True)\n",
    "\n",
    "updated_X_Gender.head()"
   ]
  },
  {
   "cell_type": "code",
   "execution_count": null,
   "id": "ace6d595",
   "metadata": {},
   "outputs": [],
   "source": [
    "y.head()"
   ]
  },
  {
   "cell_type": "markdown",
   "id": "39d40a8b",
   "metadata": {},
   "source": [
    "## use random forest"
   ]
  },
  {
   "cell_type": "code",
   "execution_count": null,
   "id": "9f745421",
   "metadata": {},
   "outputs": [],
   "source": [
    "from sklearn.model_selection import train_test_split\n",
    "from sklearn.ensemble import RandomForestClassifier\n",
    "import numpy as np\n",
    "\n",
    "y_flattened = np.ravel(y)\n",
    "\n",
    "X_train,X_test,y_train,y_test = train_test_split(updated_X_Gender, y_flattened, test_size=0.2, random_state=42)\n",
    "\n",
    "classifier = RandomForestClassifier(n_estimators=100, random_state=42)\n",
    "classifier.fit(X_train, y_train)"
   ]
  },
  {
   "cell_type": "code",
   "execution_count": null,
   "id": "90d6c6bd",
   "metadata": {},
   "outputs": [],
   "source": [
    "from joblib import dump\n",
    "\n",
    "dump(classifier, '../models/diabetes_risk_prediction.joblib')"
   ]
  },
  {
   "cell_type": "code",
   "execution_count": null,
   "id": "c66ff20a",
   "metadata": {},
   "outputs": [],
   "source": [
    "from sklearn.metrics import classification_report, accuracy_score\n",
    "\n",
    "# Make predictions on the test set\n",
    "y_pred = classifier.predict(X_test)\n",
    "\n",
    "# Evaluate the model\n",
    "accuracy = accuracy_score(y_test, y_pred)\n",
    "print(\"Accuracy:\", accuracy)\n",
    "print(\"\\nClassification Report:\")\n",
    "print(classification_report(y_test, y_pred))"
   ]
  }
 ],
 "metadata": {
  "kernelspec": {
   "display_name": "codesprint_env",
   "language": "python",
   "name": "codesprint_env"
  },
  "language_info": {
   "codemirror_mode": {
    "name": "ipython",
    "version": 3
   },
   "file_extension": ".py",
   "mimetype": "text/x-python",
   "name": "python",
   "nbconvert_exporter": "python",
   "pygments_lexer": "ipython3",
   "version": "3.10.0"
  }
 },
 "nbformat": 4,
 "nbformat_minor": 5
}
