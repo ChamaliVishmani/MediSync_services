{
 "cells": [
  {
   "cell_type": "code",
   "execution_count": null,
   "id": "d4cd885c",
   "metadata": {},
   "outputs": [],
   "source": [
    "import numpy as np\n",
    "import pandas as pd\n",
    "from scipy.stats import mode\n",
    "import matplotlib.pyplot as plt\n",
    "import seaborn as sns\n",
    "from sklearn.preprocessing import LabelEncoder\n",
    "from sklearn.model_selection import train_test_split, cross_val_score\n",
    "from sklearn.svm import SVC\n",
    "from sklearn.naive_bayes import GaussianNB\n",
    "from sklearn.ensemble import RandomForestClassifier\n",
    "from sklearn.metrics import accuracy_score, confusion_matrix\n",
    " \n",
    "%matplotlib inline"
   ]
  },
  {
   "cell_type": "code",
   "execution_count": null,
   "id": "57c61fb4",
   "metadata": {},
   "outputs": [],
   "source": [
    "pip install seaborn"
   ]
  },
  {
   "cell_type": "code",
   "execution_count": null,
   "id": "ec4af351",
   "metadata": {},
   "outputs": [],
   "source": [
    "data_path = \"data/Training.csv\"\n",
    "data = pd.read_csv(data_path).dropna(axis=1)\n",
    "data.head()"
   ]
  },
  {
   "cell_type": "code",
   "execution_count": null,
   "id": "7d7771ae",
   "metadata": {},
   "outputs": [],
   "source": [
    "# check if dataset is balanced\n",
    "disease_counts = data[\"prognosis\"].value_counts()\n",
    "temp_df = pd.DataFrame({\n",
    "    \"Disease\":disease_counts.index,\n",
    "    \"Counts\":disease_counts.values\n",
    "})\n",
    "\n",
    "plt.figure(figsize=(18,8))\n",
    "sns.barplot(x=\"Disease\",y=\"Counts\",data=temp_df)\n",
    "plt.xticks(rotation=90)\n",
    "plt.show()"
   ]
  },
  {
   "cell_type": "code",
   "execution_count": null,
   "id": "7f539757",
   "metadata": {},
   "outputs": [],
   "source": [
    "encoder = LabelEncoder()\n",
    "data[\"prognosis\"]=encoder.fit_transform(data[\"prognosis\"])"
   ]
  },
  {
   "cell_type": "code",
   "execution_count": null,
   "id": "ed40dc0b",
   "metadata": {},
   "outputs": [],
   "source": [
    "X = data.iloc[:,:-1]\n",
    "y = data.iloc[:,-1]\n",
    "\n",
    "X_train, X_test, y_train, y_test =train_test_split(\n",
    "  X, y, test_size = 0.2, random_state = 24)\n",
    " \n",
    "print(f\"Train: {X_train.shape}, {y_train.shape}\")\n",
    "print(f\"Test: {X_test.shape}, {y_test.shape}\")"
   ]
  },
  {
   "cell_type": "code",
   "execution_count": null,
   "id": "54e01daa",
   "metadata": {},
   "outputs": [],
   "source": [
    "def cv_scoring(estimator,X,y):\n",
    "    return accuracy_score(y,estimator.predict(X))"
   ]
  },
  {
   "cell_type": "code",
   "execution_count": null,
   "id": "388a16bc",
   "metadata": {},
   "outputs": [],
   "source": [
    "models ={\n",
    "    \"SVC\":SVC(),\n",
    "    \"Gaussian NB\":GaussianNB(),\n",
    "    \"Random Forest\":RandomForestClassifier(random_state=18)\n",
    "}"
   ]
  },
  {
   "cell_type": "code",
   "execution_count": null,
   "id": "ffd5f159",
   "metadata": {},
   "outputs": [],
   "source": [
    "for model_name in models:\n",
    "    model= models[model_name]\n",
    "    scores = cross_val_score(model,X,y,cv=10,n_jobs=-1,scoring=cv_scoring)\n",
    "    print(\"==\"*30)\n",
    "    print(model_name)\n",
    "    print(f\"Scores: {scores}\")\n",
    "    print(f\"Mean Score: {np.mean(scores)}\")"
   ]
  },
  {
   "cell_type": "code",
   "execution_count": null,
   "id": "3cf12974",
   "metadata": {},
   "outputs": [],
   "source": [
    "# SVM classifier\n",
    "svm_model=SVC()\n",
    "svm_model.fit(X_train,y_train)\n",
    "preds = svm_model.predict(X_test)\n",
    "\n",
    "print(f\"Accuracy on train data by SVM Classifier\\\n",
    ": {accuracy_score(y_train, svm_model.predict(X_train))*100}\")\n",
    " \n",
    "print(f\"Accuracy on test data by SVM Classifier\\\n",
    ": {accuracy_score(y_test, preds)*100}\")\n",
    "cf_matrix = confusion_matrix(y_test, preds)\n",
    "plt.figure(figsize=(12,8))\n",
    "sns.heatmap(cf_matrix, annot=True)\n",
    "plt.title(\"Confusion Matrix for SVM Classifier on Test Data\")\n",
    "plt.show()"
   ]
  },
  {
   "cell_type": "code",
   "execution_count": null,
   "id": "a049d4aa",
   "metadata": {},
   "outputs": [],
   "source": [
    "# Naive Bayes Classifier\n",
    "nb_model = GaussianNB()\n",
    "nb_model.fit(X_train, y_train)\n",
    "preds = nb_model.predict(X_test)\n",
    "print(f\"Accuracy on train data by Naive Bayes Classifier\\\n",
    ": {accuracy_score(y_train, nb_model.predict(X_train))*100}\")\n",
    " \n",
    "print(f\"Accuracy on test data by Naive Bayes Classifier\\\n",
    ": {accuracy_score(y_test, preds)*100}\")\n",
    "cf_matrix = confusion_matrix(y_test, preds)\n",
    "plt.figure(figsize=(12,8))\n",
    "sns.heatmap(cf_matrix, annot=True)\n",
    "plt.title(\"Confusion Matrix for Naive Bayes Classifier on Test Data\")\n",
    "plt.show()"
   ]
  },
  {
   "cell_type": "code",
   "execution_count": null,
   "id": "9a544dad",
   "metadata": {},
   "outputs": [],
   "source": [
    "# Random Forest Classifier\n",
    "rf_model = RandomForestClassifier(random_state=18)\n",
    "rf_model.fit(X_train, y_train)\n",
    "preds = rf_model.predict(X_test)\n",
    "print(f\"Accuracy on train data by Random Forest Classifier\\\n",
    ": {accuracy_score(y_train, rf_model.predict(X_train))*100}\")\n",
    " \n",
    "print(f\"Accuracy on test data by Random Forest Classifier\\\n",
    ": {accuracy_score(y_test, preds)*100}\")\n",
    " \n",
    "cf_matrix = confusion_matrix(y_test, preds)\n",
    "plt.figure(figsize=(12,8))\n",
    "sns.heatmap(cf_matrix, annot=True)\n",
    "plt.title(\"Confusion Matrix for Random Forest Classifier on Test Data\")\n",
    "plt.show()"
   ]
  },
  {
   "cell_type": "code",
   "execution_count": null,
   "id": "18d93260",
   "metadata": {},
   "outputs": [],
   "source": [
    "# Training the models on whole data\n",
    "final_svm_model = SVC()\n",
    "final_nb_model = GaussianNB()\n",
    "final_rf_model = RandomForestClassifier(random_state=18)\n",
    "final_svm_model.fit(X, y)\n",
    "final_nb_model.fit(X, y)\n",
    "final_rf_model.fit(X, y)"
   ]
  },
  {
   "cell_type": "code",
   "execution_count": null,
   "id": "47755519",
   "metadata": {},
   "outputs": [],
   "source": [
    "from joblib import dump\n",
    "\n",
    "dump(final_svm_model, \"../models/disease_prediction_svm_model.joblib\")\n",
    "dump(final_nb_model, \"../models/disease_prediction_nb_model.joblib\")\n",
    "dump(final_rf_model, \"../models/disease_prediction_rf_model.joblib\")"
   ]
  },
  {
   "cell_type": "code",
   "execution_count": null,
   "id": "238c68e3",
   "metadata": {},
   "outputs": [],
   "source": [
    "test_data = pd.read_csv(\"data/Testing.csv\").dropna(axis=1)\n",
    " \n",
    "test_X = test_data.iloc[:, :-1]\n",
    "test_Y = encoder.transform(test_data.iloc[:, -1])\n",
    " \n",
    "svm_preds = final_svm_model.predict(test_X)\n",
    "nb_preds = final_nb_model.predict(test_X)\n",
    "rf_preds = final_rf_model.predict(test_X)\n",
    " \n",
    "final_preds = [mode([i,j,k])[0] for i,j,\n",
    "               k in zip(svm_preds, nb_preds, rf_preds)]\n",
    " \n",
    "print(f\"Accuracy on Test dataset by the combined model\\\n",
    ": {accuracy_score(test_Y, final_preds)*100}\")\n",
    " \n",
    "cf_matrix = confusion_matrix(test_Y, final_preds)\n",
    "plt.figure(figsize=(12,8))\n",
    " \n",
    "sns.heatmap(cf_matrix, annot = True)\n",
    "plt.title(\"Confusion Matrix for Combined Model on Test Dataset\")\n",
    "plt.show()"
   ]
  },
  {
   "cell_type": "code",
   "execution_count": null,
   "id": "880e89fb",
   "metadata": {},
   "outputs": [],
   "source": [
    "symptoms = X.columns.values"
   ]
  },
  {
   "cell_type": "code",
   "execution_count": null,
   "id": "539738c1",
   "metadata": {},
   "outputs": [],
   "source": [
    "symptom_index={}\n",
    "\n",
    "for index,value in enumerate(symptoms):\n",
    "    symptom = \" \".join([i.capitalize() for i in value.split(\"_\")])\n",
    "    symptom_index[symptom]=index"
   ]
  },
  {
   "cell_type": "code",
   "execution_count": null,
   "id": "9eabab9c",
   "metadata": {},
   "outputs": [],
   "source": [
    "data_dict ={\n",
    "    \"symptom_index\":symptom_index,\n",
    "    \"predictions_classes\":encoder.classes_\n",
    "}\n",
    "\n",
    "print(data_dict)"
   ]
  },
  {
   "cell_type": "code",
   "execution_count": null,
   "id": "08fb2530",
   "metadata": {},
   "outputs": [],
   "source": [
    "from collections import Counter\n",
    "\n",
    "def predictDisease(symptoms):\n",
    "    symptoms = symptoms.split(\",\")\n",
    "    \n",
    "    input_data = [0]*len(data_dict[\"symptom_index\"])\n",
    "    for symptom in symptoms:\n",
    "        symptom = symptom.strip()\n",
    "        if symptom in data_dict[\"symptom_index\"]:\n",
    "            index = data_dict[\"symptom_index\"][symptom]\n",
    "            input_data[index] = 1\n",
    "        else:\n",
    "            print(f\"Warning: Symptom '{symptom}' not recognized.\")\n",
    "        \n",
    "    input_data = np.array(input_data).reshape(1,-1)\n",
    "    \n",
    "    rf_prediction = data_dict[\"predictions_classes\"][final_rf_model.predict(input_data)[0]]\n",
    "    nb_prediction = data_dict[\"predictions_classes\"][final_nb_model.predict(input_data)[0]]\n",
    "    svm_prediction = data_dict[\"predictions_classes\"][final_svm_model.predict(input_data)[0]]\n",
    "    \n",
    "#     final_prediction = mode([rf_prediction, nb_prediction, svm_prediction])[0][0]\n",
    "    preiction_list=[rf_prediction, nb_prediction, svm_prediction]\n",
    "    final_prediction = Counter(preiction_list).most_common(1)[0][0]\n",
    "    \n",
    "    predictions = {\n",
    "        \"rf_model_prediction\": rf_prediction,\n",
    "        \"naive_bayes_prediction\": nb_prediction,\n",
    "        \"svm_model_prediction\": svm_prediction,\n",
    "        \"final_prediction\":final_prediction\n",
    "    }\n",
    "    return predictions"
   ]
  },
  {
   "cell_type": "code",
   "execution_count": null,
   "id": "e9ae8b6e",
   "metadata": {
    "scrolled": true
   },
   "outputs": [],
   "source": [
    "print(predictDisease(\"Itching,Skin Rash,Nodal Skin Eruptions\"))"
   ]
  },
  {
   "cell_type": "code",
   "execution_count": null,
   "id": "cd973e9d",
   "metadata": {},
   "outputs": [],
   "source": [
    "data_path = \"data/Training.csv\"\n",
    "data = pd.read_csv(data_path).dropna(axis=1)\n",
    "unique_values = data['prognosis'].unique()\n",
    "\n",
    "print(unique_values)"
   ]
  },
  {
   "cell_type": "code",
   "execution_count": null,
   "id": "5665854d",
   "metadata": {},
   "outputs": [],
   "source": [
    "disease_to_doctor = {\n",
    "    'Fungal infection': 'Dermatologist',\n",
    "    'Allergy': 'Allergist',\n",
    "    'GERD': 'Gastroenterologist',\n",
    "    'Chronic cholestasis': 'Hepatologist',\n",
    "    'Drug Reaction': 'Allergist/Immunologist',\n",
    "    'Peptic ulcer diseae': 'Gastroenterologist',\n",
    "    'AIDS': 'Infectious Disease Specialist',\n",
    "    'Diabetes': 'Endocrinologist',\n",
    "    'Gastroenteritis': 'Gastroenterologist',\n",
    "    'Bronchial Asthma': 'Pulmonologist',\n",
    "    'Hypertension': 'Cardiologist',\n",
    "    'Migraine': 'Neurologist',\n",
    "    'Cervical spondylosis': 'Orthopedic Surgeon',\n",
    "    'Paralysis (brain hemorrhage)': 'Neurologist',\n",
    "    'Jaundice': 'Hepatologist',\n",
    "    'Malaria': 'Infectious Disease Specialist',\n",
    "    'Chicken pox': 'Infectious Disease Specialist',\n",
    "    'Dengue': 'Infectious Disease Specialist',\n",
    "    'Typhoid': 'Infectious Disease Specialist',\n",
    "    'hepatitis A': 'Hepatologist',\n",
    "    'Hepatitis B': 'Hepatologist',\n",
    "    'Hepatitis C': 'Hepatologist',\n",
    "    'Hepatitis D': 'Hepatologist',\n",
    "    'Hepatitis E': 'Hepatologist',\n",
    "    'Alcoholic hepatitis': 'Hepatologist',\n",
    "    'Tuberculosis': 'Pulmonologist',\n",
    "    'Common Cold': 'General Practitioner',\n",
    "    'Pneumonia': 'Pulmonologist',\n",
    "    'Dimorphic hemmorhoids(piles)': 'Gastroenterologist',\n",
    "    'Heart attack': 'Cardiologist',\n",
    "    'Varicose veins': 'Vascular Surgeon',\n",
    "    'Hypothyroidism': 'Endocrinologist',\n",
    "    'Hyperthyroidism': 'Endocrinologist',\n",
    "    'Hypoglycemia': 'Endocrinologist',\n",
    "    'Osteoarthristis': 'Orthopedic Surgeon',\n",
    "    'Arthritis': 'Rheumatologist',\n",
    "    '(vertigo) Paroymsal  Positional Vertigo': 'ENT Specialist',\n",
    "    'Acne': 'Dermatologist',\n",
    "    'Urinary tract infection': 'Urologist',\n",
    "    'Psoriasis': 'Dermatologist',\n",
    "    'Impetigo': 'Dermatologist'\n",
    "}"
   ]
  },
  {
   "cell_type": "code",
   "execution_count": null,
   "id": "68f0b8e4",
   "metadata": {},
   "outputs": [],
   "source": [
    "print(\"The recommended doctor for Diabetes is:\", disease_to_doctor['Fungal infection'])\n"
   ]
  },
  {
   "cell_type": "code",
   "execution_count": null,
   "id": "8c5e39ce",
   "metadata": {},
   "outputs": [],
   "source": [
    "predicted_diseases = predictDisease(\"Itching,Skin Rash,Nodal Skin Eruptions\")\n",
    "\n",
    "final_prediction_str = str(predicted_diseases['final_prediction'])\n",
    "def get_doctor(predicted_disease):\n",
    "    return disease_to_doctor[predicted_disease]\n",
    "\n",
    "print(\"Predicted disease :\" ,predicted_diseases['final_prediction'])\n",
    "print(\"Recommended doctor type :\",get_doctor(final_prediction_str))"
   ]
  },
  {
   "cell_type": "code",
   "execution_count": null,
   "id": "9d0940ae",
   "metadata": {},
   "outputs": [],
   "source": []
  }
 ],
 "metadata": {
  "kernelspec": {
   "display_name": "codesprint_env",
   "language": "python",
   "name": "codesprint_env"
  },
  "language_info": {
   "codemirror_mode": {
    "name": "ipython",
    "version": 3
   },
   "file_extension": ".py",
   "mimetype": "text/x-python",
   "name": "python",
   "nbconvert_exporter": "python",
   "pygments_lexer": "ipython3",
   "version": "3.10.0"
  }
 },
 "nbformat": 4,
 "nbformat_minor": 5
}
