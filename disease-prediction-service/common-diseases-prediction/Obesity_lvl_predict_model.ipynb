{
 "cells": [
  {
   "cell_type": "code",
   "execution_count": null,
   "id": "3b176b65",
   "metadata": {},
   "outputs": [],
   "source": [
    "pip install ucimlrepo"
   ]
  },
  {
   "cell_type": "code",
   "execution_count": null,
   "id": "b2592560",
   "metadata": {},
   "outputs": [],
   "source": [
    "from ucimlrepo import fetch_ucirepo \n",
    "  \n",
    "# fetch dataset \n",
    "estimation_of_obesity_levels_based_on_eating_habits_and_physical_condition = fetch_ucirepo(id=544) \n",
    "  \n",
    "# data (as pandas dataframes) \n",
    "X = estimation_of_obesity_levels_based_on_eating_habits_and_physical_condition.data.features \n",
    "y = estimation_of_obesity_levels_based_on_eating_habits_and_physical_condition.data.targets \n",
    "  \n",
    "# metadata \n",
    "print(estimation_of_obesity_levels_based_on_eating_habits_and_physical_condition.metadata) \n",
    "  \n",
    "# variable information \n",
    "print(estimation_of_obesity_levels_based_on_eating_habits_and_physical_condition.variables) \n"
   ]
  },
  {
   "cell_type": "code",
   "execution_count": null,
   "id": "032c6415",
   "metadata": {},
   "outputs": [],
   "source": [
    "X.head()"
   ]
  },
  {
   "cell_type": "code",
   "execution_count": null,
   "id": "f114606f",
   "metadata": {},
   "outputs": [],
   "source": [
    "y.head()"
   ]
  },
  {
   "cell_type": "code",
   "execution_count": null,
   "id": "f9138ef6",
   "metadata": {},
   "outputs": [],
   "source": [
    "# https://www.geeksforgeeks.org/how-to-convert-categorical-variable-to-numeric-in-pandas/\n",
    "\n",
    "import pandas as pd\n",
    "\n",
    "gender_dummies = pd.get_dummies(X.Gender)\n",
    "\n",
    "updated_X_Gender = pd.concat([X,gender_dummies],axis='columns')\n",
    "\n",
    "updated_X_Gender.drop(['Gender','Male'],axis='columns',inplace=True)\n",
    "\n",
    "updated_X_Gender.head()"
   ]
  },
  {
   "cell_type": "code",
   "execution_count": null,
   "id": "868980a2",
   "metadata": {},
   "outputs": [],
   "source": [
    "family_history_dummies = pd.get_dummies(updated_X_Gender.family_history_with_overweight)\n",
    "\n",
    "updated_X_family_history = pd.concat([updated_X_Gender,family_history_dummies],axis='columns')\n",
    "\n",
    "updated_X_family_history.drop(['family_history_with_overweight','yes'],axis='columns',inplace=True)\n",
    "\n",
    "updated_X_family_history.rename(columns={'no':'family_history_with_overweight_no'},inplace=True)\n",
    "\n",
    "updated_X_family_history.head()"
   ]
  },
  {
   "cell_type": "code",
   "execution_count": null,
   "id": "99ec2a38",
   "metadata": {},
   "outputs": [],
   "source": [
    "FAVC_dummies = pd.get_dummies(updated_X_family_history.FAVC)\n",
    "\n",
    "updated_X_FAVC = pd.concat([updated_X_family_history,FAVC_dummies],axis='columns')\n",
    "\n",
    "updated_X_FAVC.drop(['FAVC','no'],axis='columns',inplace=True)\n",
    "\n",
    "updated_X_FAVC.rename(columns={'yes':'FAVC_yes'},inplace=True)\n",
    "\n",
    "updated_X_FAVC.head()"
   ]
  },
  {
   "cell_type": "code",
   "execution_count": null,
   "id": "d2fa35d3",
   "metadata": {},
   "outputs": [],
   "source": [
    "CAEC_dummies = pd.get_dummies(updated_X_FAVC.CAEC)\n",
    "\n",
    "updated_X_CAEC = pd.concat([updated_X_FAVC,CAEC_dummies],axis='columns')\n",
    "\n",
    "updated_X_CAEC.drop(['CAEC','no'],axis='columns',inplace=True)\n",
    "\n",
    "updated_X_CAEC.rename(columns={'Always':'CAEC_Always','Frequently':'CAEC_Frequently','Sometimes':'CAEC_Sometimes',},inplace=True)\n",
    "\n",
    "updated_X_CAEC.head()"
   ]
  },
  {
   "cell_type": "code",
   "execution_count": null,
   "id": "c6c604d5",
   "metadata": {},
   "outputs": [],
   "source": [
    "SMOKE_dummies = pd.get_dummies(updated_X_CAEC.SMOKE)\n",
    "\n",
    "updated_X_SMOKE = pd.concat([updated_X_CAEC,SMOKE_dummies],axis='columns')\n",
    "\n",
    "updated_X_SMOKE.drop(['SMOKE','no'],axis='columns',inplace=True)\n",
    "\n",
    "updated_X_SMOKE.rename(columns={'yes':'SMOKE_yes'},inplace=True)\n",
    "\n",
    "updated_X_SMOKE.head()"
   ]
  },
  {
   "cell_type": "code",
   "execution_count": null,
   "id": "fa65876f",
   "metadata": {},
   "outputs": [],
   "source": [
    "SCC_dummies = pd.get_dummies(updated_X_SMOKE.SCC)\n",
    "\n",
    "updated_X_SCC = pd.concat([updated_X_SMOKE,SCC_dummies],axis='columns')\n",
    "\n",
    "updated_X_SCC.drop(['SCC','no'],axis='columns',inplace=True)\n",
    "\n",
    "updated_X_SCC.rename(columns={'yes':'SCC_yes'},inplace=True)\n",
    "\n",
    "updated_X_SCC.head()"
   ]
  },
  {
   "cell_type": "code",
   "execution_count": null,
   "id": "9fd36aeb",
   "metadata": {},
   "outputs": [],
   "source": [
    "CALC_dummies = pd.get_dummies(updated_X_SCC.CALC)\n",
    "\n",
    "updated_X_CALC = pd.concat([updated_X_SCC,CALC_dummies],axis='columns')\n",
    "\n",
    "updated_X_CALC.drop(['CALC','no'],axis='columns',inplace=True)\n",
    "\n",
    "updated_X_CALC.rename(columns={'Always':'CALC_Always','Frequently':'CALC_Frequently','Sometimes':'CALC_Sometimes',},inplace=True)\n",
    "\n",
    "updated_X_CALC.head()"
   ]
  },
  {
   "cell_type": "code",
   "execution_count": null,
   "id": "f9309e68",
   "metadata": {},
   "outputs": [],
   "source": [
    "MTRANS_dummies = pd.get_dummies(updated_X_CALC.MTRANS)\n",
    "\n",
    "updated_X_MTRANS = pd.concat([updated_X_CALC,MTRANS_dummies],axis='columns')\n",
    "\n",
    "updated_X_MTRANS.drop(['MTRANS','Walking'],axis='columns',inplace=True)\n",
    "\n",
    "updated_X_MTRANS.rename(columns={'Automobile':'MTRANS_Automobile','Bike':'MTRANS_Bike','Motorbike':'MTRANS_Motorbike','Public_Transportation':'MTRANS_Public_Transportation'},inplace=True)\n",
    "\n",
    "updated_X_MTRANS.head()"
   ]
  },
  {
   "cell_type": "code",
   "execution_count": null,
   "id": "0e2f54ee",
   "metadata": {},
   "outputs": [],
   "source": [
    "y_dummies = pd.get_dummies(y.NObeyesdad)\n",
    "\n",
    "updated_y = pd.concat([y,y_dummies],axis='columns')\n",
    "\n",
    "updated_y.drop(['NObeyesdad'],axis='columns',inplace=True)\n",
    "\n",
    "updated_y.head()"
   ]
  },
  {
   "cell_type": "code",
   "execution_count": null,
   "id": "c50372e0",
   "metadata": {},
   "outputs": [],
   "source": [
    "from sklearn.model_selection import train_test_split\n",
    "\n",
    "X_train, X_test,y_train,y_test = train_test_split(updated_X_MTRANS,updated_y,test_size=0.2,random_state=42)"
   ]
  },
  {
   "cell_type": "code",
   "execution_count": null,
   "id": "c964c361",
   "metadata": {},
   "outputs": [],
   "source": [
    "from sklearn.linear_model import LinearRegression\n",
    "\n",
    "model = LinearRegression()\n",
    "model.fit(X_train,y_train)"
   ]
  },
  {
   "cell_type": "code",
   "execution_count": null,
   "id": "e6253925",
   "metadata": {},
   "outputs": [],
   "source": [
    "from joblib import dump\n",
    "\n",
    "dump(model,'../models/estimation_of_obesity_levels.joblib')"
   ]
  },
  {
   "cell_type": "code",
   "execution_count": null,
   "id": "7cc4c7d6",
   "metadata": {},
   "outputs": [],
   "source": [
    "from sklearn.metrics import mean_squared_error\n",
    "\n",
    "y_pred = model.predict(X_test)\n",
    "mse = mean_squared_error(y_test, y_pred)\n",
    "print('Mean Squared Error:', mse)"
   ]
  },
  {
   "cell_type": "code",
   "execution_count": null,
   "id": "c709dd82",
   "metadata": {},
   "outputs": [],
   "source": [
    "# Create a dictionary with the data\n",
    "new_data_dict = {\n",
    "    'Gender': ['Male'],\n",
    "    'Age': [30],\n",
    "    'Height': [165],\n",
    "    'Weight': [70],\n",
    "    'family_history_with_overweight': ['Yes'],\n",
    "    'FAVC': ['No'],\n",
    "    'FCVC': [3],\n",
    "    'NCP': [3],\n",
    "    'CAEC': ['Sometimes'],\n",
    "    'SMOKE': ['No'],\n",
    "    'CH2O':[2.0],\n",
    "    'SCC':['no'],\n",
    "    'FAF':[0.0],\n",
    "    'TUE':[1.0],\n",
    "    'CALC':['Frequently'],\n",
    "    'MTRANS':['Public_Transportation']\n",
    "}"
   ]
  },
  {
   "cell_type": "code",
   "execution_count": null,
   "id": "253a17ca",
   "metadata": {},
   "outputs": [],
   "source": [
    "new_data = pd.DataFrame(new_data_dict)\n",
    "\n",
    "new_data['Female'] = (new_data['Gender'] == 'Female').astype(int)\n",
    "new_data.drop(['Gender'],axis='columns',inplace=True)\n",
    "\n",
    "new_data['family_history_with_overweight_no'] = (new_data['family_history_with_overweight'] == 'no').astype(int)\n",
    "new_data.drop(['family_history_with_overweight'],axis='columns',inplace=True)\n",
    "\n",
    "new_data['FAVC_yes'] = (new_data['FAVC'] == 'yes').astype(int)\n",
    "new_data.drop(['FAVC'],axis='columns',inplace=True)\n",
    "\n",
    "new_data['CAEC_Always'] = (new_data['CAEC'] == 'Always').astype(int)\n",
    "new_data['CAEC_Frequently'] = (new_data['CAEC'] == 'Frequently').astype(int)\n",
    "new_data['CAEC_Sometimes'] = (new_data['CAEC'] == 'Sometimes').astype(int)\n",
    "new_data.drop(['CAEC'],axis='columns',inplace=True)\n",
    "\n",
    "new_data['SMOKE_yes'] = (new_data['SMOKE'] == 'yes').astype(int)\n",
    "new_data.drop(['SMOKE'],axis='columns',inplace=True)\n",
    "\n",
    "new_data['SCC_yes'] = (new_data['SCC'] == 'yes').astype(int)\n",
    "new_data.drop(['SCC'],axis='columns',inplace=True)\n",
    "\n",
    "new_data['CALC_Always'] = (new_data['CALC'] == 'Always').astype(int)\n",
    "new_data['CALC_Frequently'] = (new_data['CALC'] == 'Frequently').astype(int)\n",
    "new_data['CALC_Sometimes'] = (new_data['CALC'] == 'Sometimes').astype(int)\n",
    "new_data.drop(['CALC'],axis='columns',inplace=True)\n",
    "               \n",
    "new_data['MTRANS_Automobile'] = (new_data['MTRANS'] == 'Automobile').astype(int)\n",
    "new_data['MTRANS_Bike'] = (new_data['MTRANS'] == 'Bike').astype(int)\n",
    "new_data['MTRANS_Motorbike'] = (new_data['MTRANS'] == 'Motorbike').astype(int)\n",
    "new_data['MTRANS_Public_Transportation'] = (new_data['MTRANS'] == 'Public_Transportation').astype(int)\n",
    "new_data.drop(['MTRANS'],axis='columns',inplace=True)\n",
    "               \n",
    "# Print the DataFrame\n",
    "new_data.head()"
   ]
  },
  {
   "cell_type": "code",
   "execution_count": null,
   "id": "b7f85f3a",
   "metadata": {},
   "outputs": [],
   "source": [
    "predictions = model.predict(new_data)"
   ]
  },
  {
   "cell_type": "code",
   "execution_count": null,
   "id": "04f6ce72",
   "metadata": {},
   "outputs": [],
   "source": [
    "#The sign of each value indicates whether the model predicts a positive or negative association with that category. For example, a negative value suggests a lower likelihood of belonging to that category, while a positive value suggests a higher likelihood.\n",
    "\n",
    "# The magnitude of each value indicates the strength of the association. Larger absolute values indicate higher confidence in the prediction.\n",
    "\n",
    "# [Insufficient_Weight | Normal_Weight | Obesity_Type_I | Obesity_Type_II | Obesity_Type_III | Overweight_Level_I | Overweight_Level_II]\n",
    "\n",
    "print(predictions)"
   ]
  }
 ],
 "metadata": {
  "kernelspec": {
   "display_name": "codesprint_env",
   "language": "python",
   "name": "codesprint_env"
  },
  "language_info": {
   "codemirror_mode": {
    "name": "ipython",
    "version": 3
   },
   "file_extension": ".py",
   "mimetype": "text/x-python",
   "name": "python",
   "nbconvert_exporter": "python",
   "pygments_lexer": "ipython3",
   "version": "3.10.0"
  }
 },
 "nbformat": 4,
 "nbformat_minor": 5
}
